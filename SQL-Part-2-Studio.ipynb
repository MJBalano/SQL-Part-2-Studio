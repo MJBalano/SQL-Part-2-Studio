{
    "metadata": {
        "kernelspec": {
            "name": "SQL",
            "display_name": "SQL",
            "language": "sql"
        },
        "language_info": {
            "name": "sql",
            "version": ""
        },
        "extensions": {
            "azuredatastudio": {
                "version": 1,
                "views": []
            }
        }
    },
    "nbformat_minor": 2,
    "nbformat": 4,
    "cells": [
        {
            "cell_type": "markdown",
            "source": [
                "# Lesson 11: SQL Part 2 Studio\n",
                "\n",
                "> This studio asks you to create queries using the functions from this lesson. As you work through the studio, you may need to create more than one query to return the desired answer.  For others, you may need to combine functions together in order to answer the original query.  The questions have been organized in a way to help you puzzle out the answers.\n",
                "> \n",
                "> Happy querying! \n",
                "\n",
                "**The Dataset:**   \n",
                "\n",
                "> We will be working with the **BooksDB dataset** from Lesson 10.  You should already have access to it."
            ],
            "metadata": {
                "azdata_cell_guid": "bbaa021d-dbcb-4f90-a05f-f280d524589a"
            },
            "attachments": {}
        },
        {
            "cell_type": "markdown",
            "source": [
                "## The Questions:"
            ],
            "metadata": {
                "azdata_cell_guid": "bfc33995-70d4-4403-a870-39244e5e9727"
            }
        },
        {
            "cell_type": "markdown",
            "source": [
                "1.  Create a query that returns the longest title in the dataset.  We can do this in two steps.\n",
                "\n",
                "> A. Create a query that returns the length of the longest title.\n",
                "> \n",
                "> B. Create a query that uses the length you found in step A to find the longest title."
            ],
            "metadata": {
                "azdata_cell_guid": "29e63840-f200-4b1b-9239-4dc60a402c1d"
            },
            "attachments": {}
        },
        {
            "cell_type": "code",
            "source": [
                "SELECT TOP 1 LEN(REPLACE(title,' ','')) AS \"Longest Title\", title\r\n",
                "FROM BooksDB.dbo.books\r\n",
                "ORDER BY \"Longest Title\" DESC;"
            ],
            "metadata": {
                "azdata_cell_guid": "fc1a211d-ea4e-446a-bbf8-e31499c50aba",
                "language": "sql"
            },
            "outputs": [
                {
                    "output_type": "display_data",
                    "data": {
                        "text/html": "(1 row affected)"
                    },
                    "metadata": {}
                },
                {
                    "output_type": "display_data",
                    "data": {
                        "text/html": "Total execution time: 00:00:00.127"
                    },
                    "metadata": {}
                },
                {
                    "output_type": "execute_result",
                    "execution_count": 8,
                    "data": {
                        "application/vnd.dataresource+json": {
                            "schema": {
                                "fields": [
                                    {
                                        "name": "Longest Title"
                                    },
                                    {
                                        "name": "title"
                                    }
                                ]
                            },
                            "data": [
                                {
                                    "0": "158",
                                    "1": "Soccernomics: Why England Loses, Why Germany and Brazil Win, and Why the U.S., Japan, Australia, Turkey--and Even Iraq--Are Destined to Become the Kings of the World's Most Popular Sport"
                                }
                            ]
                        },
                        "text/html": "<table><tr><th>Longest Title</th><th>title</th></tr><tr><td>158</td><td>Soccernomics: Why England Loses, Why Germany and Brazil Win, and Why the U.S., Japan, Australia, Turkey--and Even Iraq--Are Destined to Become the Kings of the World's Most Popular Sport</td></tr></table>"
                    },
                    "metadata": {}
                }
            ],
            "execution_count": 8
        },
        {
            "cell_type": "code",
            "source": [
                "SELECT MAX(LEN(REPLACE(title,' ',''))) AS \"Longest Title\"\r\n",
                "FROM BooksDB.dbo.books;"
            ],
            "metadata": {
                "azdata_cell_guid": "bc753bb8-26c5-4646-8854-d5543da4462b",
                "language": "sql"
            },
            "outputs": [
                {
                    "output_type": "display_data",
                    "data": {
                        "text/html": "(1 row affected)"
                    },
                    "metadata": {}
                },
                {
                    "output_type": "display_data",
                    "data": {
                        "text/html": "Total execution time: 00:00:00.126"
                    },
                    "metadata": {}
                },
                {
                    "output_type": "execute_result",
                    "execution_count": 9,
                    "data": {
                        "application/vnd.dataresource+json": {
                            "schema": {
                                "fields": [
                                    {
                                        "name": "Longest Title"
                                    }
                                ]
                            },
                            "data": [
                                {
                                    "0": "158"
                                }
                            ]
                        },
                        "text/html": "<table><tr><th>Longest Title</th></tr><tr><td>158</td></tr></table>"
                    },
                    "metadata": {}
                }
            ],
            "execution_count": 9
        },
        {
            "cell_type": "markdown",
            "source": [
                "2.  Use what you learned in question 1 to find the shortest author name.  \n",
                "\n",
                "> A. Create a query that returns the length of the shortest author.\n",
                "> \n",
                "> B. Create a query that returns the shortest author's name."
            ],
            "metadata": {
                "azdata_cell_guid": "5de64491-7324-44ce-bda4-e22b07229854"
            },
            "attachments": {}
        },
        {
            "cell_type": "code",
            "source": [
                "SELECT TOP 1 LEN(REPLACE(authors,' ','')) AS \"Shortest Author Name\", authors\r\n",
                "FROM BooksDB.dbo.books\r\n",
                "ORDER BY \"Shortest Author Name\" ASC;"
            ],
            "metadata": {
                "azdata_cell_guid": "61423c75-cb55-470f-b062-a1901d3da67c",
                "language": "sql"
            },
            "outputs": [
                {
                    "output_type": "display_data",
                    "data": {
                        "text/html": "(1 row affected)"
                    },
                    "metadata": {}
                },
                {
                    "output_type": "display_data",
                    "data": {
                        "text/html": "Total execution time: 00:00:00.109"
                    },
                    "metadata": {}
                },
                {
                    "output_type": "execute_result",
                    "execution_count": 10,
                    "data": {
                        "application/vnd.dataresource+json": {
                            "schema": {
                                "fields": [
                                    {
                                        "name": "Shortest Author Name"
                                    },
                                    {
                                        "name": "authors"
                                    }
                                ]
                            },
                            "data": [
                                {
                                    "0": "3",
                                    "1": "Avi"
                                }
                            ]
                        },
                        "text/html": "<table><tr><th>Shortest Author Name</th><th>authors</th></tr><tr><td>3</td><td>Avi</td></tr></table>"
                    },
                    "metadata": {}
                }
            ],
            "execution_count": 10
        },
        {
            "cell_type": "code",
            "source": [
                "SELECT MIN(LEN(REPLACE(authors,' ',''))) AS \"Shortest Author Name\"\r\n",
                "FROM BooksDB.dbo.books;"
            ],
            "metadata": {
                "language": "sql",
                "azdata_cell_guid": "9800ca65-83f2-4926-a217-05b37c8c0107"
            },
            "outputs": [
                {
                    "output_type": "display_data",
                    "data": {
                        "text/html": "(1 row affected)"
                    },
                    "metadata": {}
                },
                {
                    "output_type": "display_data",
                    "data": {
                        "text/html": "Total execution time: 00:00:00.112"
                    },
                    "metadata": {}
                },
                {
                    "output_type": "execute_result",
                    "execution_count": 11,
                    "data": {
                        "application/vnd.dataresource+json": {
                            "schema": {
                                "fields": [
                                    {
                                        "name": "Shortest Author Name"
                                    }
                                ]
                            },
                            "data": [
                                {
                                    "0": "3"
                                }
                            ]
                        },
                        "text/html": "<table><tr><th>Shortest Author Name</th></tr><tr><td>3</td></tr></table>"
                    },
                    "metadata": {}
                }
            ],
            "execution_count": 11
        },
        {
            "cell_type": "markdown",
            "source": [
                "3\\. How many titles contain the word \"The\"?  \n",
                "\n",
                "  \n",
                "\n",
                "> A. Is there a difference between the number of titles that use \"The\" or \"the\"?"
            ],
            "metadata": {
                "azdata_cell_guid": "97f50346-9729-4d1b-926c-e1b53c5c5e68"
            },
            "attachments": {}
        },
        {
            "cell_type": "code",
            "source": [
                "SELECT COUNT(title)\r\n",
                "FROM BooksDB.dbo.books\r\n",
                "WHERE title LIKE '%The%' OR title LIKE '%the%';"
            ],
            "metadata": {
                "azdata_cell_guid": "f58433db-eb3b-46e0-bb4d-85ca52d359b5",
                "language": "sql",
                "tags": []
            },
            "outputs": [
                {
                    "output_type": "display_data",
                    "data": {
                        "text/html": "(1 row affected)"
                    },
                    "metadata": {}
                },
                {
                    "output_type": "display_data",
                    "data": {
                        "text/html": "Total execution time: 00:00:00.129"
                    },
                    "metadata": {}
                },
                {
                    "output_type": "execute_result",
                    "execution_count": 14,
                    "data": {
                        "application/vnd.dataresource+json": {
                            "schema": {
                                "fields": [
                                    {
                                        "name": "(No column name)"
                                    }
                                ]
                            },
                            "data": [
                                {
                                    "0": "4702"
                                }
                            ]
                        },
                        "text/html": "<table><tr><th>(No column name)</th></tr><tr><td>4702</td></tr></table>"
                    },
                    "metadata": {}
                }
            ],
            "execution_count": 14
        },
        {
            "cell_type": "markdown",
            "source": [
                "4.  How many authors' names _start_ with 'Z'?"
            ],
            "metadata": {
                "azdata_cell_guid": "e0d89eca-410d-4e29-82ca-265b79c73fea"
            },
            "attachments": {}
        },
        {
            "cell_type": "code",
            "source": [
                "SELECT COUNT(authors)\r\n",
                "FROM BooksDB.dbo.books\r\n",
                "WHERE authors LIKE 'Z%';"
            ],
            "metadata": {
                "azdata_cell_guid": "850f04c8-458a-4cfb-95c4-4dbb7a3d63d0",
                "language": "sql"
            },
            "outputs": [
                {
                    "output_type": "display_data",
                    "data": {
                        "text/html": "(1 row affected)"
                    },
                    "metadata": {}
                },
                {
                    "output_type": "display_data",
                    "data": {
                        "text/html": "Total execution time: 00:00:00.087"
                    },
                    "metadata": {}
                },
                {
                    "output_type": "execute_result",
                    "execution_count": 17,
                    "data": {
                        "application/vnd.dataresource+json": {
                            "schema": {
                                "fields": [
                                    {
                                        "name": "(No column name)"
                                    }
                                ]
                            },
                            "data": [
                                {
                                    "0": "11"
                                }
                            ]
                        },
                        "text/html": "<table><tr><th>(No column name)</th></tr><tr><td>11</td></tr></table>"
                    },
                    "metadata": {}
                }
            ],
            "execution_count": 17
        },
        {
            "cell_type": "markdown",
            "source": [
                "5\\. How many books have been identified as printed in a language other than English?  There are four language codes for English: 'en', 'eng', 'en-US', and 'en-UK'.  Use LEFT to answer the question.  (Do not use the wildcard)\n",
                "\n",
                "You might want to use one of these [comparison operators](https://docs.microsoft.com/en-us/sql/t-sql/language-elements/comparison-operators-transact-sql?view=sql-server-ver15)."
            ],
            "metadata": {
                "azdata_cell_guid": "7066afeb-79d2-4e7f-b497-cbde17655b19"
            },
            "attachments": {}
        },
        {
            "cell_type": "code",
            "source": [
                "SELECT COUNT(language_code) AS \"Books Not In English \"\r\n",
                "FROM BooksDB.dbo.books\r\n",
                "WHERE LEFT(language_code, 2) <> 'en';"
            ],
            "metadata": {
                "azdata_cell_guid": "5a85f5ae-dd59-4fa1-828a-c63fa330ff7f",
                "language": "sql",
                "tags": [
                    "hide_input"
                ]
            },
            "outputs": [
                {
                    "output_type": "display_data",
                    "data": {
                        "text/html": "(1 row affected)"
                    },
                    "metadata": {}
                },
                {
                    "output_type": "display_data",
                    "data": {
                        "text/html": "Total execution time: 00:00:00.047"
                    },
                    "metadata": {}
                },
                {
                    "output_type": "execute_result",
                    "metadata": {},
                    "execution_count": 3,
                    "data": {
                        "application/vnd.dataresource+json": {
                            "schema": {
                                "fields": [
                                    {
                                        "name": "Books Not In English "
                                    }
                                ]
                            },
                            "data": [
                                {
                                    "0": "186"
                                }
                            ]
                        },
                        "text/html": [
                            "<table>",
                            "<tr><th>Books Not In English </th></tr>",
                            "<tr><td>186</td></tr>",
                            "</table>"
                        ]
                    }
                }
            ],
            "execution_count": 3
        },
        {
            "cell_type": "markdown",
            "source": [
                "6\\. Retry question 5 using SUBSTRING."
            ],
            "metadata": {
                "azdata_cell_guid": "93153cd1-ecea-4e4b-87f5-2214993a7291"
            },
            "attachments": {}
        },
        {
            "cell_type": "code",
            "source": [
                "SELECT COUNT(language_code) AS \"Books Not In English \"\r\n",
                "FROM BooksDB.dbo.books\r\n",
                "WHERE SUBSTRING(language_code, 1, 2) <> 'en';"
            ],
            "metadata": {
                "azdata_cell_guid": "7756ae02-4ec2-4456-b3a7-c3604bf07e26",
                "language": "sql"
            },
            "outputs": [
                {
                    "output_type": "display_data",
                    "data": {
                        "text/html": "(1 row affected)"
                    },
                    "metadata": {}
                },
                {
                    "output_type": "display_data",
                    "data": {
                        "text/html": "Total execution time: 00:00:00.050"
                    },
                    "metadata": {}
                },
                {
                    "output_type": "execute_result",
                    "metadata": {},
                    "execution_count": 4,
                    "data": {
                        "application/vnd.dataresource+json": {
                            "schema": {
                                "fields": [
                                    {
                                        "name": "Books Not In English "
                                    }
                                ]
                            },
                            "data": [
                                {
                                    "0": "186"
                                }
                            ]
                        },
                        "text/html": [
                            "<table>",
                            "<tr><th>Books Not In English </th></tr>",
                            "<tr><td>186</td></tr>",
                            "</table>"
                        ]
                    }
                }
            ],
            "execution_count": 4
        },
        {
            "cell_type": "markdown",
            "source": [
                "7.  Create a column that returns the title, authors, and language codes.  Concatenate these elements so that they return in the following way: title by authors in language\\_code language.\n",
                "\n",
                "> A.  Check each selected column to see where any values are NULL.  Did any of the columns contain NULL values?  If so, which one?"
            ],
            "metadata": {
                "azdata_cell_guid": "c8124542-ea76-4153-96ef-f4db908fbd6c"
            },
            "attachments": {}
        },
        {
            "cell_type": "code",
            "source": [
                "SELECT TOP (100) CONCAT(title, ' by ', authors, ' in ', language_code) AS new_colum\r\n",
                "FROM BooksDB.dbo.books;"
            ],
            "metadata": {
                "azdata_cell_guid": "26705af1-6191-48b9-b649-7bc93cad102d",
                "language": "sql",
                "tags": [
                    "hide_input"
                ]
            },
            "outputs": [
                {
                    "output_type": "display_data",
                    "data": {
                        "text/html": "(100 rows affected)"
                    },
                    "metadata": {}
                },
                {
                    "output_type": "display_data",
                    "data": {
                        "text/html": "Total execution time: 00:00:00.077"
                    },
                    "metadata": {}
                },
                {
                    "output_type": "execute_result",
                    "execution_count": 37,
                    "data": {
                        "application/vnd.dataresource+json": {
                            "schema": {
                                "fields": [
                                    {
                                        "name": "new_colum"
                                    }
                                ]
                            },
                            "data": [
                                {
                                    "0": "The Hunger Games (The Hunger Games, #1) by Suzanne Collins in eng"
                                },
                                {
                                    "0": "Harry Potter and the Sorcerer's Stone (Harry Potter, #1) by J.K. Rowling, Mary GrandPré in eng"
                                },
                                {
                                    "0": "Twilight (Twilight, #1) by Stephenie Meyer in en-US"
                                },
                                {
                                    "0": "To Kill a Mockingbird by Harper Lee in eng"
                                },
                                {
                                    "0": "The Great Gatsby by F. Scott Fitzgerald in eng"
                                },
                                {
                                    "0": "The Fault in Our Stars by John Green in eng"
                                },
                                {
                                    "0": "The Hobbit by J.R.R. Tolkien in en-US"
                                },
                                {
                                    "0": "The Catcher in the Rye by J.D. Salinger in eng"
                                },
                                {
                                    "0": "Angels & Demons  (Robert Langdon, #1) by Dan Brown in en-CA"
                                },
                                {
                                    "0": "Pride and Prejudice by Jane Austen in eng"
                                },
                                {
                                    "0": "The Kite Runner by Khaled Hosseini in eng"
                                },
                                {
                                    "0": "Divergent (Divergent, #1) by Veronica Roth in eng"
                                },
                                {
                                    "0": "1984 by George Orwell, Erich Fromm, Celâl Üster in eng"
                                },
                                {
                                    "0": "Animal Farm by George Orwell in eng"
                                },
                                {
                                    "0": "The Diary of a Young Girl by Anne Frank, Eleanor Roosevelt, B.M. Mooyaart-Doubleday in eng"
                                },
                                {
                                    "0": "The Girl with the Dragon Tattoo (Millennium, #1) by Stieg Larsson, Reg Keeland in eng"
                                },
                                {
                                    "0": "Catching Fire (The Hunger Games, #2) by Suzanne Collins in eng"
                                },
                                {
                                    "0": "Harry Potter and the Prisoner of Azkaban (Harry Potter, #3) by J.K. Rowling, Mary GrandPré, Rufus Beck in eng"
                                },
                                {
                                    "0": "The Fellowship of the Ring (The Lord of the Rings, #1) by J.R.R. Tolkien in eng"
                                },
                                {
                                    "0": "Mockingjay (The Hunger Games, #3) by Suzanne Collins in eng"
                                },
                                {
                                    "0": "Harry Potter and the Order of the Phoenix (Harry Potter, #5) by J.K. Rowling, Mary GrandPré in eng"
                                },
                                {
                                    "0": "The Lovely Bones by Alice Sebold in eng"
                                },
                                {
                                    "0": "Harry Potter and the Chamber of Secrets (Harry Potter, #2) by J.K. Rowling, Mary GrandPré in eng"
                                },
                                {
                                    "0": "Harry Potter and the Goblet of Fire (Harry Potter, #4) by J.K. Rowling, Mary GrandPré in eng"
                                },
                                {
                                    "0": "Harry Potter and the Deathly Hallows (Harry Potter, #7) by J.K. Rowling, Mary GrandPré in eng"
                                },
                                {
                                    "0": "The Da Vinci Code (Robert Langdon, #2) by Dan Brown in eng"
                                },
                                {
                                    "0": "Harry Potter and the Half-Blood Prince (Harry Potter, #6) by J.K. Rowling, Mary GrandPré in eng"
                                },
                                {
                                    "0": "Lord of the Flies by William Golding in eng"
                                },
                                {
                                    "0": "Romeo and Juliet by William Shakespeare, Robert           Jackson in eng"
                                },
                                {
                                    "0": "Gone Girl by Gillian Flynn in eng"
                                },
                                {
                                    "0": "The Help by Kathryn Stockett in eng"
                                },
                                {
                                    "0": "Of Mice and Men by John Steinbeck in eng"
                                },
                                {
                                    "0": "Memoirs of a Geisha by Arthur Golden in eng"
                                },
                                {
                                    "0": "Fifty Shades of Grey (Fifty Shades, #1) by E.L. James in eng"
                                },
                                {
                                    "0": "The Alchemist by Paulo Coelho, Alan R. Clarke in eng"
                                },
                                {
                                    "0": "The Giver (The Giver, #1) by Lois Lowry in eng"
                                },
                                {
                                    "0": "The Lion, the Witch, and the Wardrobe (Chronicles of Narnia, #1) by C.S. Lewis in eng"
                                },
                                {
                                    "0": "The Time Traveler's Wife by Audrey Niffenegger in eng"
                                },
                                {
                                    "0": "A Game of Thrones (A Song of Ice and Fire, #1) by George R.R. Martin in eng"
                                },
                                {
                                    "0": "Eat, Pray, Love by Elizabeth Gilbert in eng"
                                },
                                {
                                    "0": "The Lightning Thief (Percy Jackson and the Olympians, #1) by Rick Riordan in eng"
                                },
                                {
                                    "0": "Little Women (Little Women, #1) by Louisa May Alcott in en-US"
                                },
                                {
                                    "0": "Jane Eyre by Charlotte Brontë, Michael Mason in eng"
                                },
                                {
                                    "0": "The Notebook (The Notebook, #1) by Nicholas Sparks in eng"
                                },
                                {
                                    "0": "Life of Pi by Yann Martel in "
                                },
                                {
                                    "0": "Water for Elephants by Sara Gruen in eng"
                                },
                                {
                                    "0": "The Book Thief by Markus Zusak in eng"
                                },
                                {
                                    "0": "Fahrenheit 451 by Ray Bradbury in spa"
                                },
                                {
                                    "0": "New Moon (Twilight, #2) by Stephenie Meyer in eng"
                                },
                                {
                                    "0": "Where the Sidewalk Ends by Shel Silverstein in eng"
                                },
                                {
                                    "0": "City of Bones (The Mortal Instruments, #1) by Cassandra Clare in eng"
                                },
                                {
                                    "0": "Eclipse (Twilight, #3) by Stephenie Meyer in en-US"
                                },
                                {
                                    "0": "Eragon (The Inheritance Cycle, #1) by Christopher Paolini in en-US"
                                },
                                {
                                    "0": "The Hitchhiker's Guide to the Galaxy (Hitchhiker's Guide to the Galaxy, #1) by Douglas Adams in en-US"
                                },
                                {
                                    "0": "Brave New World by Aldous Huxley in eng"
                                },
                                {
                                    "0": "Breaking Dawn (Twilight, #4) by Stephenie Meyer in en-US"
                                },
                                {
                                    "0": "The Secret Life of Bees by Sue Monk Kidd in en-US"
                                },
                                {
                                    "0": "The Adventures of Huckleberry Finn by Mark Twain, John Seelye, Guy Cardwell in eng"
                                },
                                {
                                    "0": "Charlotte's Web by E.B. White, Garth Williams, Rosemary Wells in eng"
                                },
                                {
                                    "0": "The Curious Incident of the Dog in the Night-Time by Mark Haddon in eng"
                                },
                                {
                                    "0": "The Girl on the Train by Paula Hawkins in eng"
                                },
                                {
                                    "0": "The Golden Compass (His Dark Materials, #1) by Philip Pullman in eng"
                                },
                                {
                                    "0": "Fangirl by Rainbow Rowell in eng"
                                },
                                {
                                    "0": "Wuthering Heights by Emily Brontë, Richard J. Dunn in eng"
                                },
                                {
                                    "0": "My Sister's Keeper by Jodi Picoult in eng"
                                },
                                {
                                    "0": "Slaughterhouse-Five by Kurt Vonnegut Jr. in eng"
                                },
                                {
                                    "0": "Gone with the Wind by Margaret Mitchell in eng"
                                },
                                {
                                    "0": "A Thousand Splendid Suns by Khaled Hosseini in eng"
                                },
                                {
                                    "0": "The Perks of Being a Wallflower by Stephen Chbosky in eng"
                                },
                                {
                                    "0": "Insurgent (Divergent, #2) by Veronica Roth in eng"
                                },
                                {
                                    "0": "Ender's Game (Ender's Saga, #1) by Orson Scott Card in eng"
                                },
                                {
                                    "0": "Frankenstein by Mary Wollstonecraft Shelley, Percy Bysshe Shelley, Maurice Hindle in eng"
                                },
                                {
                                    "0": "The Shining (The Shining #1) by Stephen King in eng"
                                },
                                {
                                    "0": "The Host (The Host, #1) by Stephenie Meyer in en-US"
                                },
                                {
                                    "0": "Looking for Alaska by John Green in eng"
                                },
                                {
                                    "0": "Bridget Jones's Diary (Bridget Jones, #1) by Helen Fielding in eng"
                                },
                                {
                                    "0": "Sense and Sensibility by Jane Austen, Tony Tanner, Ros Ballaster in eng"
                                },
                                {
                                    "0": "Holes (Holes, #1) by Louis Sachar, Louis Sachar in eng"
                                },
                                {
                                    "0": "Filth by Irvine Welsh in eng"
                                },
                                {
                                    "0": "The Devil Wears Prada (The Devil Wears Prada, #1) by Lauren Weisberger in eng"
                                },
                                {
                                    "0": "The Odyssey by Homer, Robert Fagles, E.V. Rieu, Frédéric Mugler, Bernard Knox in eng"
                                },
                                {
                                    "0": "The Little Prince by Antoine de Saint-Exupéry, Richard Howard, Dom Marcos Barbosa, Melina Karakosta in eng"
                                },
                                {
                                    "0": "The Glass Castle by Jeannette Walls in eng"
                                },
                                {
                                    "0": "Into the Wild by Jon Krakauer in eng"
                                },
                                {
                                    "0": "A Tale of Two Cities by Charles Dickens, Richard Maxwell, Hablot Knight Browne in eng"
                                },
                                {
                                    "0": "Jurassic Park (Jurassic Park, #1) by Michael Crichton in spa"
                                },
                                {
                                    "0": "The Giving Tree by Shel Silverstein in eng"
                                },
                                {
                                    "0": "A Time to Kill by John Grisham in eng"
                                },
                                {
                                    "0": "Night (The Night Trilogy #1) by Elie Wiesel, Marion Wiesel in eng"
                                },
                                {
                                    "0": "Paper Towns by John Green in en-US"
                                },
                                {
                                    "0": "The Princess Bride  by William Goldman in en-US"
                                },
                                {
                                    "0": "The Outsiders by S.E. Hinton in en-US"
                                },
                                {
                                    "0": "The Maze Runner (Maze Runner, #1) by James Dashner in eng"
                                },
                                {
                                    "0": "Freakonomics: A Rogue Economist Explores the Hidden Side of Everything (Freakonomics, #1) by Steven D. Levitt, Stephen J. Dubner in en-US"
                                },
                                {
                                    "0": "The Secret Garden by Frances Hodgson Burnett in eng"
                                },
                                {
                                    "0": "One Hundred Years of Solitude by Gabriel García Márquez, Gregory Rabassa in eng"
                                },
                                {
                                    "0": "The Picture of Dorian Gray by Oscar Wilde, Jeffrey Eugenides in eng"
                                },
                                {
                                    "0": "Fifty Shades Freed (Fifty Shades, #3) by E.L. James in eng"
                                },
                                {
                                    "0": "Dracula by Bram Stoker, Nina Auerbach, David J. Skal in eng"
                                },
                                {
                                    "0": "The Girl Who Played with Fire (Millennium, #2) by Stieg Larsson, Reg Keeland in eng"
                                }
                            ]
                        },
                        "text/html": "<table><tr><th>new_colum</th></tr><tr><td>The Hunger Games (The Hunger Games, #1) by Suzanne Collins in eng</td></tr><tr><td>Harry Potter and the Sorcerer's Stone (Harry Potter, #1) by J.K. Rowling, Mary GrandPré in eng</td></tr><tr><td>Twilight (Twilight, #1) by Stephenie Meyer in en-US</td></tr><tr><td>To Kill a Mockingbird by Harper Lee in eng</td></tr><tr><td>The Great Gatsby by F. Scott Fitzgerald in eng</td></tr><tr><td>The Fault in Our Stars by John Green in eng</td></tr><tr><td>The Hobbit by J.R.R. Tolkien in en-US</td></tr><tr><td>The Catcher in the Rye by J.D. Salinger in eng</td></tr><tr><td>Angels &amp; Demons  (Robert Langdon, #1) by Dan Brown in en-CA</td></tr><tr><td>Pride and Prejudice by Jane Austen in eng</td></tr><tr><td>The Kite Runner by Khaled Hosseini in eng</td></tr><tr><td>Divergent (Divergent, #1) by Veronica Roth in eng</td></tr><tr><td>1984 by George Orwell, Erich Fromm, Celâl Üster in eng</td></tr><tr><td>Animal Farm by George Orwell in eng</td></tr><tr><td>The Diary of a Young Girl by Anne Frank, Eleanor Roosevelt, B.M. Mooyaart-Doubleday in eng</td></tr><tr><td>The Girl with the Dragon Tattoo (Millennium, #1) by Stieg Larsson, Reg Keeland in eng</td></tr><tr><td>Catching Fire (The Hunger Games, #2) by Suzanne Collins in eng</td></tr><tr><td>Harry Potter and the Prisoner of Azkaban (Harry Potter, #3) by J.K. Rowling, Mary GrandPré, Rufus Beck in eng</td></tr><tr><td>The Fellowship of the Ring (The Lord of the Rings, #1) by J.R.R. Tolkien in eng</td></tr><tr><td>Mockingjay (The Hunger Games, #3) by Suzanne Collins in eng</td></tr><tr><td>Harry Potter and the Order of the Phoenix (Harry Potter, #5) by J.K. Rowling, Mary GrandPré in eng</td></tr><tr><td>The Lovely Bones by Alice Sebold in eng</td></tr><tr><td>Harry Potter and the Chamber of Secrets (Harry Potter, #2) by J.K. Rowling, Mary GrandPré in eng</td></tr><tr><td>Harry Potter and the Goblet of Fire (Harry Potter, #4) by J.K. Rowling, Mary GrandPré in eng</td></tr><tr><td>Harry Potter and the Deathly Hallows (Harry Potter, #7) by J.K. Rowling, Mary GrandPré in eng</td></tr><tr><td>The Da Vinci Code (Robert Langdon, #2) by Dan Brown in eng</td></tr><tr><td>Harry Potter and the Half-Blood Prince (Harry Potter, #6) by J.K. Rowling, Mary GrandPré in eng</td></tr><tr><td>Lord of the Flies by William Golding in eng</td></tr><tr><td>Romeo and Juliet by William Shakespeare, Robert           Jackson in eng</td></tr><tr><td>Gone Girl by Gillian Flynn in eng</td></tr><tr><td>The Help by Kathryn Stockett in eng</td></tr><tr><td>Of Mice and Men by John Steinbeck in eng</td></tr><tr><td>Memoirs of a Geisha by Arthur Golden in eng</td></tr><tr><td>Fifty Shades of Grey (Fifty Shades, #1) by E.L. James in eng</td></tr><tr><td>The Alchemist by Paulo Coelho, Alan R. Clarke in eng</td></tr><tr><td>The Giver (The Giver, #1) by Lois Lowry in eng</td></tr><tr><td>The Lion, the Witch, and the Wardrobe (Chronicles of Narnia, #1) by C.S. Lewis in eng</td></tr><tr><td>The Time Traveler's Wife by Audrey Niffenegger in eng</td></tr><tr><td>A Game of Thrones (A Song of Ice and Fire, #1) by George R.R. Martin in eng</td></tr><tr><td>Eat, Pray, Love by Elizabeth Gilbert in eng</td></tr><tr><td>The Lightning Thief (Percy Jackson and the Olympians, #1) by Rick Riordan in eng</td></tr><tr><td>Little Women (Little Women, #1) by Louisa May Alcott in en-US</td></tr><tr><td>Jane Eyre by Charlotte Brontë, Michael Mason in eng</td></tr><tr><td>The Notebook (The Notebook, #1) by Nicholas Sparks in eng</td></tr><tr><td>Life of Pi by Yann Martel in </td></tr><tr><td>Water for Elephants by Sara Gruen in eng</td></tr><tr><td>The Book Thief by Markus Zusak in eng</td></tr><tr><td>Fahrenheit 451 by Ray Bradbury in spa</td></tr><tr><td>New Moon (Twilight, #2) by Stephenie Meyer in eng</td></tr><tr><td>Where the Sidewalk Ends by Shel Silverstein in eng</td></tr><tr><td>City of Bones (The Mortal Instruments, #1) by Cassandra Clare in eng</td></tr><tr><td>Eclipse (Twilight, #3) by Stephenie Meyer in en-US</td></tr><tr><td>Eragon (The Inheritance Cycle, #1) by Christopher Paolini in en-US</td></tr><tr><td>The Hitchhiker's Guide to the Galaxy (Hitchhiker's Guide to the Galaxy, #1) by Douglas Adams in en-US</td></tr><tr><td>Brave New World by Aldous Huxley in eng</td></tr><tr><td>Breaking Dawn (Twilight, #4) by Stephenie Meyer in en-US</td></tr><tr><td>The Secret Life of Bees by Sue Monk Kidd in en-US</td></tr><tr><td>The Adventures of Huckleberry Finn by Mark Twain, John Seelye, Guy Cardwell in eng</td></tr><tr><td>Charlotte's Web by E.B. White, Garth Williams, Rosemary Wells in eng</td></tr><tr><td>The Curious Incident of the Dog in the Night-Time by Mark Haddon in eng</td></tr><tr><td>The Girl on the Train by Paula Hawkins in eng</td></tr><tr><td>The Golden Compass (His Dark Materials, #1) by Philip Pullman in eng</td></tr><tr><td>Fangirl by Rainbow Rowell in eng</td></tr><tr><td>Wuthering Heights by Emily Brontë, Richard J. Dunn in eng</td></tr><tr><td>My Sister's Keeper by Jodi Picoult in eng</td></tr><tr><td>Slaughterhouse-Five by Kurt Vonnegut Jr. in eng</td></tr><tr><td>Gone with the Wind by Margaret Mitchell in eng</td></tr><tr><td>A Thousand Splendid Suns by Khaled Hosseini in eng</td></tr><tr><td>The Perks of Being a Wallflower by Stephen Chbosky in eng</td></tr><tr><td>Insurgent (Divergent, #2) by Veronica Roth in eng</td></tr><tr><td>Ender's Game (Ender's Saga, #1) by Orson Scott Card in eng</td></tr><tr><td>Frankenstein by Mary Wollstonecraft Shelley, Percy Bysshe Shelley, Maurice Hindle in eng</td></tr><tr><td>The Shining (The Shining #1) by Stephen King in eng</td></tr><tr><td>The Host (The Host, #1) by Stephenie Meyer in en-US</td></tr><tr><td>Looking for Alaska by John Green in eng</td></tr><tr><td>Bridget Jones's Diary (Bridget Jones, #1) by Helen Fielding in eng</td></tr><tr><td>Sense and Sensibility by Jane Austen, Tony Tanner, Ros Ballaster in eng</td></tr><tr><td>Holes (Holes, #1) by Louis Sachar, Louis Sachar in eng</td></tr><tr><td>Filth by Irvine Welsh in eng</td></tr><tr><td>The Devil Wears Prada (The Devil Wears Prada, #1) by Lauren Weisberger in eng</td></tr><tr><td>The Odyssey by Homer, Robert Fagles, E.V. Rieu, Frédéric Mugler, Bernard Knox in eng</td></tr><tr><td>The Little Prince by Antoine de Saint-Exupéry, Richard Howard, Dom Marcos Barbosa, Melina Karakosta in eng</td></tr><tr><td>The Glass Castle by Jeannette Walls in eng</td></tr><tr><td>Into the Wild by Jon Krakauer in eng</td></tr><tr><td>A Tale of Two Cities by Charles Dickens, Richard Maxwell, Hablot Knight Browne in eng</td></tr><tr><td>Jurassic Park (Jurassic Park, #1) by Michael Crichton in spa</td></tr><tr><td>The Giving Tree by Shel Silverstein in eng</td></tr><tr><td>A Time to Kill by John Grisham in eng</td></tr><tr><td>Night (The Night Trilogy #1) by Elie Wiesel, Marion Wiesel in eng</td></tr><tr><td>Paper Towns by John Green in en-US</td></tr><tr><td>The Princess Bride  by William Goldman in en-US</td></tr><tr><td>The Outsiders by S.E. Hinton in en-US</td></tr><tr><td>The Maze Runner (Maze Runner, #1) by James Dashner in eng</td></tr><tr><td>Freakonomics: A Rogue Economist Explores the Hidden Side of Everything (Freakonomics, #1) by Steven D. Levitt, Stephen J. Dubner in en-US</td></tr><tr><td>The Secret Garden by Frances Hodgson Burnett in eng</td></tr><tr><td>One Hundred Years of Solitude by Gabriel García Márquez, Gregory Rabassa in eng</td></tr><tr><td>The Picture of Dorian Gray by Oscar Wilde, Jeffrey Eugenides in eng</td></tr><tr><td>Fifty Shades Freed (Fifty Shades, #3) by E.L. James in eng</td></tr><tr><td>Dracula by Bram Stoker, Nina Auerbach, David J. Skal in eng</td></tr><tr><td>The Girl Who Played with Fire (Millennium, #2) by Stieg Larsson, Reg Keeland in eng</td></tr></table>"
                    },
                    "metadata": {}
                }
            ],
            "execution_count": 37
        },
        {
            "cell_type": "markdown",
            "source": [
                "8.  Update the query in question 7 using COALESCE to change the language code values from NULL to 'unknown'.\n",
                "\n",
                "> A.  Has this changed the language\\_code  where the values are NULL?"
            ],
            "metadata": {
                "azdata_cell_guid": "17fd76a8-afa7-4d86-a200-2902d7310a2b"
            },
            "attachments": {}
        },
        {
            "cell_type": "code",
            "source": [
                "SELECT TOP (10)CONCAT(title, ' by ', authors, ' in ', COALESCE(language_code,'unknown')) AS \"new_colum\"\r\n",
                "FROM BooksDB.dbo.books\r\n",
                "WHERE language_code IS NULL;"
            ],
            "metadata": {
                "azdata_cell_guid": "f9694996-4545-48b9-9981-325b5c590570",
                "language": "sql"
            },
            "outputs": [
                {
                    "output_type": "display_data",
                    "data": {
                        "text/html": "(10 rows affected)"
                    },
                    "metadata": {}
                },
                {
                    "output_type": "display_data",
                    "data": {
                        "text/html": "Total execution time: 00:00:00.081"
                    },
                    "metadata": {}
                },
                {
                    "output_type": "execute_result",
                    "execution_count": 46,
                    "data": {
                        "application/vnd.dataresource+json": {
                            "schema": {
                                "fields": [
                                    {
                                        "name": "new_colum"
                                    }
                                ]
                            },
                            "data": [
                                {
                                    "0": "Life of Pi by Yann Martel in unknown"
                                },
                                {
                                    "0": "The Five People You Meet in Heaven by Mitch Albom in unknown"
                                },
                                {
                                    "0": "A Christmas Carol by Charles Dickens in unknown"
                                },
                                {
                                    "0": "Carrie by Stephen King in unknown"
                                },
                                {
                                    "0": "The Hunt for Red October (Jack Ryan Universe, #4) by Tom Clancy in unknown"
                                },
                                {
                                    "0": "Where the Red Fern Grows by Wilson Rawls in unknown"
                                },
                                {
                                    "0": "Fried Green Tomatoes at the Whistle Stop Cafe by Fannie Flagg in unknown"
                                },
                                {
                                    "0": "The Three Musketeers by Alexandre Dumas in unknown"
                                },
                                {
                                    "0": "In Her Shoes by Jennifer Weiner in unknown"
                                },
                                {
                                    "0": "The Andromeda Strain by Michael Crichton in unknown"
                                }
                            ]
                        },
                        "text/html": "<table><tr><th>new_colum</th></tr><tr><td>Life of Pi by Yann Martel in unknown</td></tr><tr><td>The Five People You Meet in Heaven by Mitch Albom in unknown</td></tr><tr><td>A Christmas Carol by Charles Dickens in unknown</td></tr><tr><td>Carrie by Stephen King in unknown</td></tr><tr><td>The Hunt for Red October (Jack Ryan Universe, #4) by Tom Clancy in unknown</td></tr><tr><td>Where the Red Fern Grows by Wilson Rawls in unknown</td></tr><tr><td>Fried Green Tomatoes at the Whistle Stop Cafe by Fannie Flagg in unknown</td></tr><tr><td>The Three Musketeers by Alexandre Dumas in unknown</td></tr><tr><td>In Her Shoes by Jennifer Weiner in unknown</td></tr><tr><td>The Andromeda Strain by Michael Crichton in unknown</td></tr></table>"
                    },
                    "metadata": {}
                }
            ],
            "execution_count": 46
        },
        {
            "cell_type": "markdown",
            "source": [
                "9\\. Revisit question 7 using ISNULL instead of COALESCE.\n",
                "\n",
                "> A.  Has this changed the language\\_code  where the values are NULL?"
            ],
            "metadata": {
                "azdata_cell_guid": "57b87290-135f-478d-bf1c-2262759f8da5"
            },
            "attachments": {}
        },
        {
            "cell_type": "code",
            "source": [
                "SELECT TOP (10)CONCAT(title, ' by ', authors, ' in ', ISNULL(language_code,'unknown')) AS \"new_colum\"\r\n",
                "FROM BooksDB.dbo.books\r\n",
                "WHERE language_code IS NULL;"
            ],
            "metadata": {
                "azdata_cell_guid": "a9670717-6dc6-4685-9f62-7a588753b4a9",
                "language": "sql"
            },
            "outputs": [
                {
                    "output_type": "display_data",
                    "data": {
                        "text/html": "(10 rows affected)"
                    },
                    "metadata": {}
                },
                {
                    "output_type": "display_data",
                    "data": {
                        "text/html": "Total execution time: 00:00:00.084"
                    },
                    "metadata": {}
                },
                {
                    "output_type": "execute_result",
                    "execution_count": 45,
                    "data": {
                        "application/vnd.dataresource+json": {
                            "schema": {
                                "fields": [
                                    {
                                        "name": "new_colum"
                                    }
                                ]
                            },
                            "data": [
                                {
                                    "0": "Life of Pi by Yann Martel in unknown"
                                },
                                {
                                    "0": "The Five People You Meet in Heaven by Mitch Albom in unknown"
                                },
                                {
                                    "0": "A Christmas Carol by Charles Dickens in unknown"
                                },
                                {
                                    "0": "Carrie by Stephen King in unknown"
                                },
                                {
                                    "0": "The Hunt for Red October (Jack Ryan Universe, #4) by Tom Clancy in unknown"
                                },
                                {
                                    "0": "Where the Red Fern Grows by Wilson Rawls in unknown"
                                },
                                {
                                    "0": "Fried Green Tomatoes at the Whistle Stop Cafe by Fannie Flagg in unknown"
                                },
                                {
                                    "0": "The Three Musketeers by Alexandre Dumas in unknown"
                                },
                                {
                                    "0": "In Her Shoes by Jennifer Weiner in unknown"
                                },
                                {
                                    "0": "The Andromeda Strain by Michael Crichton in unknown"
                                }
                            ]
                        },
                        "text/html": "<table><tr><th>new_colum</th></tr><tr><td>Life of Pi by Yann Martel in unknown</td></tr><tr><td>The Five People You Meet in Heaven by Mitch Albom in unknown</td></tr><tr><td>A Christmas Carol by Charles Dickens in unknown</td></tr><tr><td>Carrie by Stephen King in unknown</td></tr><tr><td>The Hunt for Red October (Jack Ryan Universe, #4) by Tom Clancy in unknown</td></tr><tr><td>Where the Red Fern Grows by Wilson Rawls in unknown</td></tr><tr><td>Fried Green Tomatoes at the Whistle Stop Cafe by Fannie Flagg in unknown</td></tr><tr><td>The Three Musketeers by Alexandre Dumas in unknown</td></tr><tr><td>In Her Shoes by Jennifer Weiner in unknown</td></tr><tr><td>The Andromeda Strain by Michael Crichton in unknown</td></tr></table>"
                    },
                    "metadata": {}
                }
            ],
            "execution_count": 45
        }
    ]
}